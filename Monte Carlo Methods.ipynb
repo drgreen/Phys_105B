{
 "cells": [
  {
   "cell_type": "markdown",
   "id": "a9be30bc",
   "metadata": {},
   "source": [
    "# Monte Carlo Methods"
   ]
  },
  {
   "cell_type": "code",
   "execution_count": 1,
   "id": "c1406b15",
   "metadata": {},
   "outputs": [],
   "source": [
    "import math\n",
    "import random\n",
    "import numpy as np\n",
    "import matplotlib.pyplot as plt\n",
    "from scipy.special import gamma, rgamma\n",
    "from scipy import integrate\n",
    "import time"
   ]
  },
  {
   "cell_type": "markdown",
   "id": "716125d9",
   "metadata": {},
   "source": [
    "### Monte Carlo Integration"
   ]
  },
  {
   "cell_type": "markdown",
   "id": "88720c86",
   "metadata": {},
   "source": [
    "We are going to explore calculating the volume of a sphere in $d$ dimensions of radius 1. We know the answer analytically \n",
    "\n",
    "$$ V_d = \\frac{\\pi^{d/2}}{ \\Gamma[\\frac{d}{2}+1]}$$"
   ]
  },
  {
   "cell_type": "markdown",
   "id": "d198cf7d",
   "metadata": {},
   "source": [
    "As discussed, as $d$ in increases, this is a tiny fraction of the d-dimensional box that encloses the sphere, which has volume $2^d$"
   ]
  },
  {
   "cell_type": "code",
   "execution_count": 2,
   "id": "dcab45e7",
   "metadata": {},
   "outputs": [
    {
     "data": {
      "image/png": "[encoded data removed]",
      "text/plain": [
       "<Figure size 432x288 with 1 Axes>"
      ]
     },
     "metadata": {
      "needs_background": "light"
     },
     "output_type": "display_data"
    }
   ],
   "source": [
    "dlist=np.arange(100)\n",
    "plt.plot(dlist,np.pi**(dlist/2.)/gamma(dlist/2.+1.))\n",
    "plt.plot(dlist,2.**(dlist))\n",
    "plt.yscale('log')"
   ]
  },
  {
   "cell_type": "markdown",
   "id": "9f89a013",
   "metadata": {},
   "source": [
    "We can calculate the ratio of these volumes for a few values of $d$"
   ]
  },
  {
   "cell_type": "code",
   "execution_count": 3,
   "id": "cdca9335",
   "metadata": {},
   "outputs": [
    {
     "name": "stdout",
     "output_type": "stream",
     "text": [
      "0.5235987755982989 0.00249039457019272 2.461136950494199e-08 1.8681820538375912e-70\n"
     ]
    }
   ],
   "source": [
    "def V_ratio(d):\n",
    "    return np.pi**(d/2.)/(2**(d)*gamma(d/2.+1.))\n",
    "print(V_ratio(3),V_ratio(10),V_ratio(20),V_ratio(100))"
   ]
  },
  {
   "cell_type": "markdown",
   "id": "e63536e5",
   "metadata": {},
   "source": [
    "We can caculate this using our basic Monte Carlo technique relatively easily"
   ]
  },
  {
   "cell_type": "code",
   "execution_count": 4,
   "id": "f2a4167d",
   "metadata": {},
   "outputs": [],
   "source": [
    "def dvol_fast(n,d):\n",
    "    analytic=np.pi**(float(d)/2.)*rgamma(float(d)/2.+1)\n",
    "    X=(2*np.random.rand(d*n)-1).reshape(n,d) # generate nxd random [-1,1]\n",
    "    Y=((X**2).sum(axis=1)) # calculate x_1^2 +.. +x_d^2\n",
    "    area=2**d*(Y<=1).sum()/n # add up all the points inside the sphere\n",
    "    return area, (area-analytic)/analytic"
   ]
  },
  {
   "cell_type": "markdown",
   "id": "a9a5ceca",
   "metadata": {},
   "source": [
    "The key idea is that we want to use numpy to do all the work for us. We organize all the random numbers we need into a single array and then add up the rows first, then impose the requirement that each row lives inside the circle, then we sum the answer."
   ]
  },
  {
   "cell_type": "code",
   "execution_count": 5,
   "id": "71951a7a",
   "metadata": {},
   "outputs": [
    {
     "data": {
      "text/plain": [
       "(3.1413664, -7.201875441575515e-05)"
      ]
     },
     "execution_count": 5,
     "metadata": {},
     "output_type": "execute_result"
    }
   ],
   "source": [
    "dvol_fast(int(1e7),2)"
   ]
  },
  {
   "cell_type": "markdown",
   "id": "0d5f2cb0",
   "metadata": {},
   "source": [
    "We can get pretty decent accuracy for a pretty fast integral"
   ]
  },
  {
   "cell_type": "code",
   "execution_count": 6,
   "id": "d94664f2",
   "metadata": {},
   "outputs": [
    {
     "name": "stdout",
     "output_type": "stream",
     "text": [
      "0.43084073066711426\n",
      "3.1414584 -4.273424488685246e-05\n"
     ]
    }
   ],
   "source": [
    "t0 = time.time()\n",
    "a2,e2=dvol_fast(int(1e7),2)\n",
    "t1= time.time()\n",
    "print(t1-t0)\n",
    "print(a2,e2)"
   ]
  },
  {
   "cell_type": "markdown",
   "id": "b8862d28",
   "metadata": {},
   "source": [
    "In general, we expect the speed to scale like $n \\times d$"
   ]
  },
  {
   "cell_type": "code",
   "execution_count": 7,
   "id": "4e9390e2",
   "metadata": {},
   "outputs": [
    {
     "name": "stdout",
     "output_type": "stream",
     "text": [
      "1.7297279834747314\n",
      "2.5307136 -0.007627132832710121\n"
     ]
    }
   ],
   "source": [
    "t0 = time.time()\n",
    "a10,e10=dvol_fast(int(1e7),10)\n",
    "t1= time.time()\n",
    "print(t1-t0)\n",
    "print(a10,e10)"
   ]
  },
  {
   "cell_type": "markdown",
   "id": "543c0e96",
   "metadata": {},
   "source": [
    "The error should decrease like $1/\\sqrt{N}$, at least until we start hitting the limits of our algorithm."
   ]
  },
  {
   "cell_type": "code",
   "execution_count": 8,
   "id": "e05af3b2",
   "metadata": {},
   "outputs": [
    {
     "name": "stdout",
     "output_type": "stream",
     "text": [
      "(3.1668, 0.008023747566828287)\n",
      "(3.139028, -0.0008163545922678487)\n",
      "(3.14126568, -0.0001040789261521331)\n"
     ]
    }
   ],
   "source": [
    "print(dvol_fast(int(1e4),2))\n",
    "print(dvol_fast(int(1e6),2))\n",
    "print(dvol_fast(int(1e8),2))"
   ]
  },
  {
   "cell_type": "markdown",
   "id": "a1830f70",
   "metadata": {},
   "source": [
    "### Importance Sampling"
   ]
  },
  {
   "cell_type": "markdown",
   "id": "4eddd0db",
   "metadata": {},
   "source": [
    "Now we are going to improve our MC integration by drawing numbers from a Gaussian distribution. We are now not just adding up all the numbers inside the circle, but weighting them by $e^{-(\\vec x^2)/2\\sigma^2} \\sqrt{2\\pi \\sigma^2}^d$"
   ]
  },
  {
   "cell_type": "code",
   "execution_count": 9,
   "id": "c122cba4",
   "metadata": {},
   "outputs": [],
   "source": [
    "# We are going to pick from a gaussian distribution with some variance\n",
    "def gaussvol_fast(n,d,sigma):\n",
    "    analytic=np.pi**(float(d)/2.)*rgamma(float(d)/2.+1)\n",
    "    count = 0\n",
    "    Narea=[]\n",
    "    X=(np.random.randn(d*n)*sigma).reshape(n,d)\n",
    "    Y=((X**2).sum(axis=1))\n",
    "    area=((Y<=1)*np.exp(Y/(2*sigma**2))).sum()*np.sqrt(2*np.pi*sigma**2)**d/n\n",
    "    #return ((Y<=1)*np.exp(Y)).sum()/n\n",
    "    return area,(area-analytic)/analytic"
   ]
  },
  {
   "cell_type": "markdown",
   "id": "fef9eb80",
   "metadata": {},
   "source": [
    "For low dimensions, this behaves about the same as our uniform distribution"
   ]
  },
  {
   "cell_type": "code",
   "execution_count": 10,
   "id": "d2467c5f",
   "metadata": {},
   "outputs": [
    {
     "name": "stdout",
     "output_type": "stream",
     "text": [
      "(3.140836, -0.00024085031804754506)\n",
      "(3.1446779212067626, 0.0009820711840040897)\n"
     ]
    }
   ],
   "source": [
    "print(dvol_fast(int(1e6),2))\n",
    "print(gaussvol_fast(int(1e6),2,1))"
   ]
  },
  {
   "cell_type": "markdown",
   "id": "c5a7ad6b",
   "metadata": {},
   "source": [
    "We can also see how it depends on the choice of $\\sigma$."
   ]
  },
  {
   "cell_type": "code",
   "execution_count": 11,
   "id": "0e310389",
   "metadata": {},
   "outputs": [],
   "source": [
    "# We are going to pick from a gaussian distribution with some variance\n",
    "def gaussvol_frac(n,d,sigma):\n",
    "    analytic=np.pi**(float(d)/2.)*rgamma(float(d)/2.+1)\n",
    "    count = 0\n",
    "    Narea=[]\n",
    "    X=(np.random.randn(d*n)*sigma).reshape(n,d)\n",
    "    Y=((X**2).sum(axis=1))\n",
    "\n",
    "    out_Vol=np.abs(((Y<=1)*np.exp(Y/(2*sigma**2))).sum()*np.sqrt(2*np.pi*sigma**2)**d/(n)-analytic)/analytic\n",
    "    out_frac=(Y<=1).sum()/n\n",
    "    return out_Vol,out_frac"
   ]
  },
  {
   "cell_type": "code",
   "execution_count": 21,
   "id": "4aebb461",
   "metadata": {},
   "outputs": [],
   "source": [
    "npoints=1000000\n",
    "dim=int(6)\n",
    "s_r=np.logspace(-2,0.5,100)\n",
    "error=np.zeros(len(s_r))\n",
    "frac=np.zeros(len(s_r))\n",
    "for i in range(len(s_r)):\n",
    "    error[i],frac[i]=gaussvol_frac(npoints,dim,s_r[i])"
   ]
  },
  {
   "cell_type": "code",
   "execution_count": 22,
   "id": "8bf8d543",
   "metadata": {},
   "outputs": [
    {
     "data": {
      "image/png": "[encoded data removed]",
      "text/plain": [
       "<Figure size 432x288 with 1 Axes>"
      ]
     },
     "metadata": {
      "needs_background": "light"
     },
     "output_type": "display_data"
    }
   ],
   "source": [
    "plt.plot(s_r,error,color='darkorange',lw=3,label='error')\n",
    "plt.plot(s_r,frac,lw=3,label='acceptance fraction')\n",
    "plt.legend()\n",
    "plt.yscale('log')\n",
    "plt.xscale('log')\n",
    "plt.show()"
   ]
  },
  {
   "cell_type": "markdown",
   "id": "e53475ba",
   "metadata": {},
   "source": [
    "We see that our error rises on both ends where the acceptance ratio is too large and too small. There is no perfect rule of thumb for where we get the best errors, as a pretty wide acceptance ratios still give good performance. We can see that error is at its lowest as the acceptance ratio starts to dip, indicating that our choice of $\\sigma$ is just large enough to see the edge of the sphere."
   ]
  },
  {
   "cell_type": "markdown",
   "id": "a936e8c2",
   "metadata": {},
   "source": [
    "The real benefit of importance sampling can be seen as we increase the dimension of the sphere."
   ]
  },
  {
   "cell_type": "code",
   "execution_count": 23,
   "id": "9149ce84",
   "metadata": {},
   "outputs": [
    {
     "name": "stdout",
     "output_type": "stream",
     "text": [
      "(2.5833472, 0.013012166905251664)\n",
      "(2.550643357295931, 0.00018795552407249535)\n"
     ]
    }
   ],
   "source": [
    "print(dvol_fast(int(1e7),10))\n",
    "print(gaussvol_fast(int(1e7),10,0.3))"
   ]
  },
  {
   "cell_type": "code",
   "execution_count": 24,
   "id": "2ccc9053",
   "metadata": {},
   "outputs": [
    {
     "name": "stdout",
     "output_type": "stream",
     "text": [
      "(0.4685824, 0.22844580979016124)\n",
      "(0.3812614891730897, -0.0004765889435049658)\n"
     ]
    }
   ],
   "source": [
    "print(dvol_fast(int(1e7),15))\n",
    "print(gaussvol_fast(int(1e7),15,0.3))"
   ]
  },
  {
   "cell_type": "code",
   "execution_count": 25,
   "id": "098795c7",
   "metadata": {},
   "outputs": [
    {
     "name": "stdout",
     "output_type": "stream",
     "text": [
      "(0.0524288, -0.36175988642993684)\n",
      "(0.08212992097112795, -0.00019435714506112672)\n"
     ]
    }
   ],
   "source": [
    "print(dvol_fast(int(1e7),18))\n",
    "print(gaussvol_fast(int(1e7),18,0.3))"
   ]
  },
  {
   "cell_type": "code",
   "execution_count": 26,
   "id": "fafee027",
   "metadata": {},
   "outputs": [
    {
     "name": "stdout",
     "output_type": "stream",
     "text": [
      "(0.0, -1.0)\n",
      "(0.025794293953971, -0.00048814232805749957)\n"
     ]
    }
   ],
   "source": [
    "print(dvol_fast(int(1e7),20))\n",
    "print(gaussvol_fast(int(1e7),20,0.3))"
   ]
  },
  {
   "cell_type": "markdown",
   "id": "bbe760c2",
   "metadata": {},
   "source": [
    "At $d=20$ and $N$ = 10 million, we the uniform sample completely fails to calculate the volume (not a single point was inside the sphere). By comparison, our Gaussian importance sampled calculating still gives an accurate result to 4 decimal places."
   ]
  },
  {
   "cell_type": "code",
   "execution_count": null,
   "id": "4d372dae",
   "metadata": {},
   "outputs": [],
   "source": []
  }
 ],
 "metadata": {
  "kernelspec": {
   "display_name": "Python 3 (ipykernel)",
   "language": "python",
   "name": "python3"
  },
  "language_info": {
   "codemirror_mode": {
    "name": "ipython",
    "version": 3
   },
   "file_extension": ".py",
   "mimetype": "text/x-python",
   "name": "python",
   "nbconvert_exporter": "python",
   "pygments_lexer": "ipython3",
   "version": "3.9.7"
  }
 },
 "nbformat": 4,
 "nbformat_minor": 5
}
